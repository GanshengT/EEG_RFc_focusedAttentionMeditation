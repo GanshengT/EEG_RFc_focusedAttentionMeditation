{
 "cells": [
  {
   "cell_type": "code",
   "execution_count": 32,
   "id": "3287092d-99df-4dfd-9894-210806f52683",
   "metadata": {},
   "outputs": [],
   "source": [
    "import pandas as pd\n",
    "from sklearn import tree\n",
    "from sklearn.model_selection import train_test_split\n",
    "from sklearn.metrics import accuracy_score\n",
    "import numpy as np\n",
    "subjects = [\"BOOU\",\"CACA\",\"DEER\",\"EZLE\",\"GRCL\",\"LENO\",\"LOVA\",\"MATA\",\"MOHU\",\"NIJO\",\"PAMA\",\"PRBA\",\"TRWI\",\"ZAMI\"]\n",
    "df_dir_path = \"/Users/brunnerlab/Library/CloudStorage/Box-Box/Washu/Manuscripts/SMC2022/data_script/df_withPAC_matrix/\"\n",
    "# dfs_list = []\n",
    "accuracy = []\n",
    "for subj in subjects:\n",
    "    df = pd.read_csv(df_dir_path + subj + 'df_withPAC.csv', index_col=0)\n",
    "# df = pd.concat(dfs_list)\n",
    "    for col_name in ['SC', 'ST','Resp', 'HRV','HR']:\n",
    "        eval('df.pop(\"' + col_name + '\")')\n",
    "    for ch_id in range(21):\n",
    "        ch_name =  df.columns[4 * ch_id].split('Alpha')[0]\n",
    "        exec('df[\"' + ch_name + 'TBR\"] =  df[\"' + ch_name + 'ThetaMean\"] / df[\"' + ch_name + 'BetaMean\"]')\n",
    "        exec('df[\"' + ch_name + 'ABR\"] =  df[\"' + ch_name + 'AlphaMean\"] / df[\"' + ch_name + 'BetaMean\"]')\n",
    "        train, test = train_test_split(df, test_size=0.2)\n",
    "    Y_train = train['MediOrStory']\n",
    "    X_train = train.loc[:, train.columns!='MediOrStory']\n",
    "    Y_test = test['MediOrStory']\n",
    "    X_test = test.loc[:, test.columns!='MediOrStory']\n",
    "    clf = tree.DecisionTreeClassifier()\n",
    "    clf = clf.fit(X_train, Y_train)\n",
    "    Y_pred = clf.predict(X_test)\n",
    "    accuracy.append(accuracy_score(Y_test, Y_pred))\n",
    "\n",
    "print(np.mean(accuracy))\n",
    "print(np.std(accuracy))"
   ]
  },
  {
   "cell_type": "code",
   "execution_count": 42,
   "id": "5e48a7ab-a1a5-4a58-be9a-e75524e22f5a",
   "metadata": {},
   "outputs": [
    {
     "name": "stdout",
     "output_type": "stream",
     "text": [
      "0.9282246879334259\n",
      "0.03999559696912154\n"
     ]
    }
   ],
   "source": [
    "import pandas as pd\n",
    "import sklearn\n",
    "from sklearn import tree\n",
    "from sklearn.model_selection import train_test_split\n",
    "from sklearn.metrics import accuracy_score\n",
    "import numpy as np\n",
    "subjects = [\"BOOU\",\"CACA\",\"DEER\",\"EZLE\",\"GRCL\",\"LENO\",\"LOVA\",\"MATA\",\"MOHU\",\"NIJO\",\"PAMA\",\"PRBA\",\"TRWI\",\"ZAMI\"]\n",
    "df_dir_path = \"/Users/brunnerlab/Library/CloudStorage/Box-Box/Washu/Manuscripts/SMC2022/data_script/df_withPAC_matrix/\"\n",
    "# dfs_list = []\n",
    "accuracy = []\n",
    "for subj in subjects:\n",
    "    df = pd.read_csv(df_dir_path + subj + 'df_withPAC.csv', index_col=0)\n",
    "# df = pd.concat(dfs_list)\n",
    "    for col_name in ['SC', 'ST','Resp', 'HRV','HR']:\n",
    "        eval('df.pop(\"' + col_name + '\")')\n",
    "    for ch_id in range(21):\n",
    "        ch_name =  df.columns[4 * ch_id].split('Alpha')[0]\n",
    "        exec('df[\"' + ch_name + 'TBR\"] =  df[\"' + ch_name + 'ThetaMean\"] / df[\"' + ch_name + 'BetaMean\"]')\n",
    "        exec('df[\"' + ch_name + 'ABR\"] =  df[\"' + ch_name + 'AlphaMean\"] / df[\"' + ch_name + 'BetaMean\"]')\n",
    "        train, test = train_test_split(df, test_size=0.2)\n",
    "    Y_train = train['MediOrStory']\n",
    "    X_train = train.loc[:, train.columns!='MediOrStory']\n",
    "    Y_test = test['MediOrStory']\n",
    "    X_test = test.loc[:, test.columns!='MediOrStory']\n",
    "    clf = sklearn.svm.SVC()\n",
    "    clf = clf.fit(X_train, Y_train)\n",
    "    Y_pred = clf.predict(X_test)\n",
    "    accuracy.append(accuracy_score(Y_test, Y_pred))\n",
    "\n",
    "print(np.mean(accuracy))\n",
    "print(np.std(accuracy))"
   ]
  },
  {
   "cell_type": "code",
   "execution_count": 9,
   "id": "5a419d57-8fd6-49ab-8218-3399c43022a8",
   "metadata": {},
   "outputs": [],
   "source": [
    "df[\"FP1TBR\"] = df[\"FP1ThetaMean\"] / df[\"FP1BetaMean\"]"
   ]
  }
 ],
 "metadata": {
  "kernelspec": {
   "display_name": "Python 3 (ipykernel)",
   "language": "python",
   "name": "python3"
  },
  "language_info": {
   "codemirror_mode": {
    "name": "ipython",
    "version": 3
   },
   "file_extension": ".py",
   "mimetype": "text/x-python",
   "name": "python",
   "nbconvert_exporter": "python",
   "pygments_lexer": "ipython3",
   "version": "3.8.12"
  }
 },
 "nbformat": 4,
 "nbformat_minor": 5
}
